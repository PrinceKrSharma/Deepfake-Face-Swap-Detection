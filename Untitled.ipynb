{
 "cells": [
  {
   "cell_type": "code",
   "execution_count": 1,
   "id": "b873fa31-5962-461d-83fb-e3ee57f4958f",
   "metadata": {},
   "outputs": [],
   "source": [
    "import os"
   ]
  },
  {
   "cell_type": "code",
   "execution_count": 2,
   "id": "4772edfc-0979-46a8-a52e-7b64e29b505d",
   "metadata": {},
   "outputs": [],
   "source": [
    "import pathlib"
   ]
  },
  {
   "cell_type": "code",
   "execution_count": 3,
   "id": "5bc024fe-67ae-49dc-8998-887a913e577b",
   "metadata": {},
   "outputs": [],
   "source": [
    "import torch"
   ]
  },
  {
   "cell_type": "code",
   "execution_count": 4,
   "id": "63ee828a-4a98-4b63-bf99-be2861d2f777",
   "metadata": {},
   "outputs": [],
   "source": [
    "from torch.utils.data import DataLoader, Dataset, Subset"
   ]
  },
  {
   "cell_type": "code",
   "execution_count": 5,
   "id": "e8e28f16-e196-4d03-9587-97734940fd52",
   "metadata": {},
   "outputs": [],
   "source": [
    "from torchvision import transforms, models\n",
    "from torchvision.models import AlexNet_Weights"
   ]
  },
  {
   "cell_type": "code",
   "execution_count": 6,
   "id": "ad329469-ae06-4c3a-84f9-9e35faf626d1",
   "metadata": {},
   "outputs": [],
   "source": [
    "from sklearn.model_selection import KFold"
   ]
  },
  {
   "cell_type": "code",
   "execution_count": 7,
   "id": "37e33ee8-4924-423a-91c2-ac769fc75dbb",
   "metadata": {},
   "outputs": [],
   "source": [
    "from sklearn.metrics import confusion_matrix, accuracy_score, precision_score, recall_score, f1_score"
   ]
  },
  {
   "cell_type": "code",
   "execution_count": 8,
   "id": "30d7b7cf-90be-4ebb-8578-6c5eaa876b95",
   "metadata": {},
   "outputs": [],
   "source": [
    "import torch.nn.functional as F\n",
    "from skopt import gp_minimize\n",
    "from skopt.space import Real\n",
    "from torch import nn\n",
    "from torch.optim import Adam"
   ]
  },
  {
   "cell_type": "code",
   "execution_count": 9,
   "id": "1173e9e7-8448-4e33-b50b-9925661686ce",
   "metadata": {},
   "outputs": [],
   "source": [
    "import cv2\n",
    "import shutil"
   ]
  },
  {
   "cell_type": "code",
   "execution_count": 10,
   "id": "5c63104f-b508-4030-a830-cc2a4954a3a8",
   "metadata": {},
   "outputs": [],
   "source": [
    "import numpy as np\n",
    "from PIL import Image\n",
    "import random\n",
    "from collections import Counter\n",
    "from imblearn.over_sampling import RandomOverSampler\n",
    "import json"
   ]
  },
  {
   "cell_type": "code",
   "execution_count": 11,
   "id": "8c4e7f47-0f8f-41c5-bc35-6bdde98fc088",
   "metadata": {},
   "outputs": [
    {
     "name": "stdout",
     "output_type": "stream",
     "text": [
      "Working directory cleaned.\n"
     ]
    }
   ],
   "source": [
    "# Remove all files in the working directory (except the notebook itself)\n",
    "for item in os.listdir(\"/kaggle/working\"):\n",
    "    item_path = os.path.join(\"/kaggle/working\", item)\n",
    "    if os.path.isfile(item_path):\n",
    "        os.remove(item_path)  # Remove files\n",
    "    elif os.path.isdir(item_path):\n",
    "        shutil.rmtree(item_path)  # Remove directories\n",
    "\n",
    "print(\"Working directory cleaned.\")"
   ]
  },
  {
   "cell_type": "code",
   "execution_count": 12,
   "id": "11bc2e4a-d456-4f14-9099-faa48f60d8ac",
   "metadata": {},
   "outputs": [],
   "source": [
    "torch.manual_seed(47)\n",
    "np.random.seed(47)\n",
    "random.seed(47)"
   ]
  },
  {
   "cell_type": "code",
   "execution_count": 13,
   "id": "423da483-0336-4d1e-bd9d-0b4a01ffb826",
   "metadata": {},
   "outputs": [],
   "source": [
    "dataset_dir = pathlib.Path(r\"C:\\Users\\princ\\OneDrive\\文档\\NOTES\\SEMESTER 6\\Project\\DATASET\\archive\")\n",
    "original_videos = dataset_dir / r\"C:\\Users\\princ\\OneDrive\\文档\\NOTES\\SEMESTER 6\\Project\\DATASET\\archive\\DFD_original sequences\"\n",
    "manipulated_videos = dataset_dir / r\"C:\\Users\\princ\\OneDrive\\文档\\NOTES\\SEMESTER 6\\Project\\DATASET\\archive\\DFD_manipulated_sequences\\DFD_manipulated_sequences\""
   ]
  },
  {
   "cell_type": "code",
   "execution_count": 14,
   "id": "e4d1b10a-34c1-4778-9fe2-f0265cfbe133",
   "metadata": {},
   "outputs": [
    {
     "name": "stdout",
     "output_type": "stream",
     "text": [
      "Original videos: 363\n",
      "Manipulated videos: 3068\n"
     ]
    }
   ],
   "source": [
    "num_original_videos = len(list(original_videos.glob(\"*.mp4\"))) \n",
    "num_manipulated_videos = len(list(manipulated_videos.glob(\"*.mp4\")))\n",
    "print(f\"Original videos: {num_original_videos}\")\n",
    "print(f\"Manipulated videos: {num_manipulated_videos}\")"
   ]
  },
  {
   "cell_type": "code",
   "execution_count": 15,
   "id": "9316756e-c9b6-4cd5-95e9-e66e6acf74a0",
   "metadata": {},
   "outputs": [],
   "source": [
    "from torch.utils.tensorboard import SummaryWriter\n",
    "writer = SummaryWriter(log_dir=\"runs/cross_validation\")"
   ]
  },
  {
   "cell_type": "code",
   "execution_count": 16,
   "id": "3b77b815-13e2-498c-82ac-65071df829be",
   "metadata": {},
   "outputs": [],
   "source": [
    "transform = transforms.Compose([\n",
    "    transforms.Resize((224, 224)),\n",
    "    transforms.ToTensor(),  \n",
    "    transforms.Normalize(mean=[0.485, 0.456, 0.406], std=[0.229, 0.224, 0.225])\n",
    "])"
   ]
  },
  {
   "cell_type": "code",
   "execution_count": 17,
   "id": "7bcb8061-2774-4496-903f-4d67e4393d29",
   "metadata": {},
   "outputs": [],
   "source": [
    "class VideoDataset(Dataset):\n",
    "    def __init__(self, video_paths, labels, transform=None, frames_per_video=16):\n",
    "        self.video_paths = video_paths\n",
    "        self.labels = labels\n",
    "        self.transform = transform\n",
    "        self.frames_per_video = frames_per_video\n",
    "\n",
    "    def __len__(self):\n",
    "        return len(self.video_paths)\n",
    "\n",
    "    def __getitem__(self, idx):\n",
    "        video_path = self.video_paths[idx]\n",
    "        label = self.labels[idx]\n",
    "\n",
    "        # Load multiple frames from the video\n",
    "        frames = self.load_video_frames(video_path, self.frames_per_video)\n",
    "\n",
    "        # Apply transformations to frames\n",
    "        if self.transform:\n",
    "            frames = [self.transform(Image.fromarray(frame)) for frame in frames]\n",
    "        \n",
    "        # Stack frames to form a sequence\n",
    "        frames = torch.stack(frames)\n",
    "        return frames, label\n",
    "\n",
    "\n",
    "    def load_video_frames(self, video_path, num_frames):\n",
    "        cap = cv2.VideoCapture(str(video_path))\n",
    "        if not cap.isOpened():\n",
    "            print(f\"Error opening video: {video_path}\")\n",
    "            return []  # Return empty if the video cannot be opened\n",
    "\n",
    "        frame_count = int(cap.get(cv2.CAP_PROP_FRAME_COUNT))\n",
    "        frame_indices = np.linspace(0, frame_count - 1, num_frames, dtype=np.int32)\n",
    "    \n",
    "        frames = []\n",
    "        for idx in frame_indices:\n",
    "            cap.set(cv2.CAP_PROP_POS_FRAMES, idx)\n",
    "            ret, frame = cap.read()\n",
    "            if ret:\n",
    "                frame = cv2.cvtColor(frame, cv2.COLOR_BGR2RGB)\n",
    "                frames.append(frame)\n",
    "            else:\n",
    "                break\n",
    "        cap.release()\n",
    "    \n",
    "        # If we don't have enough frames, repeat the last frame\n",
    "        if len(frames) < num_frames:\n",
    "            frames += [frames[-1]] * (num_frames - len(frames))\n",
    "    \n",
    "        return frames"
   ]
  },
  {
   "cell_type": "code",
   "execution_count": 18,
   "id": "976179e9-c116-47f7-9d2d-0879612c63f2",
   "metadata": {},
   "outputs": [],
   "source": [
    "class CustomAdamOptimizer:\n",
    "    def __init__(self, params, lr=0.0001, beta1=0.9, beta2=0.999, epsilon=1e-8):\n",
    "        self.lr = lr\n",
    "        self.beta1 = beta1\n",
    "        self.beta2 = beta2\n",
    "        self.epsilon = epsilon\n",
    "        \n",
    "        self.params = list(params)\n",
    "        self.m = [torch.zeros_like(param) for param in self.params]  # Initialize first moment estimate\n",
    "        self.v = [torch.zeros_like(param) for param in self.params]  # Initialize second moment estimate\n",
    "        self.t = 0  # Time step\n",
    "        \n",
    "    def step(self):\n",
    "        self.t += 1\n",
    "        for i, param in enumerate(self.params):\n",
    "            # Skip if the parameter does not require gradients\n",
    "            if not param.requires_grad:\n",
    "                continue\n",
    "            \n",
    "            grad = param.grad  # Get the gradient of the parameter\n",
    "            \n",
    "            # Update biased first moment estimate\n",
    "            self.m[i] = self.beta1 * self.m[i] + (1 - self.beta1) * grad\n",
    "            # Update biased second moment estimate\n",
    "            self.v[i] = self.beta2 * self.v[i] + (1 - self.beta2) * grad**2\n",
    "            \n",
    "            # Compute bias-corrected first moment estimate\n",
    "            m_hat = self.m[i] / (1 - self.beta1**self.t)\n",
    "            # Compute bias-corrected second moment estimate\n",
    "            v_hat = self.v[i] / (1 - self.beta2**self.t)\n",
    "            \n",
    "            # Update the parameter using the Adam rule\n",
    "            param.data = param.data - self.lr * m_hat / (torch.sqrt(v_hat) + self.epsilon)\n",
    "\n",
    "    def zero_grad(self):\n",
    "        for param in self.params:\n",
    "            if param.grad is not None:\n",
    "                param.grad.zero_()"
   ]
  },
  {
   "cell_type": "code",
   "execution_count": 19,
   "id": "3e65bca8-23fe-4030-8813-885c0bb1097d",
   "metadata": {},
   "outputs": [],
   "source": [
    "def balance_dataset(original_videos_dir, manipulated_videos_dir, output_dir, target_count=150):\n",
    "\n",
    "    # Create output directories\n",
    "    balanced_original_dir = output_dir / r\"C:\\Users\\princ\\OneDrive\\文档\\NOTES\\SEMESTER 6\\Project\\DATASET\\Output\\original\"\n",
    "    balanced_manipulated_dir = output_dir / r\"C:\\Users\\princ\\OneDrive\\文档\\NOTES\\SEMESTER 6\\Project\\DATASET\\Output\\manipulated\"\n",
    "    balanced_original_dir.mkdir(parents=True, exist_ok=True)\n",
    "    balanced_manipulated_dir.mkdir(parents=True, exist_ok=True)\n",
    "\n",
    "    # Sample videos\n",
    "    original_videos = list(original_videos_dir.glob(\"*.mp4\"))\n",
    "    manipulated_videos = list(manipulated_videos_dir.glob(\"*.mp4\"))\n",
    "\n",
    "    sampled_original = random.sample(original_videos, target_count)\n",
    "    sampled_manipulated = random.sample(manipulated_videos, target_count)\n",
    "\n",
    "    # Copy sampled videos to output directories\n",
    "    for file in sampled_original:\n",
    "        shutil.copy(file, balanced_original_dir / file.name)\n",
    "\n",
    "    for file in sampled_manipulated:\n",
    "        shutil.copy(file, balanced_manipulated_dir / file.name)\n",
    "\n",
    "    print(f\"Balanced dataset created with {target_count} videos in each class.\")\n",
    "    return (sampled_original, [0] * len(sampled_original)), (sampled_manipulated, [1] * len(sampled_manipulated))"
   ]
  },
  {
   "cell_type": "code",
   "execution_count": 20,
   "id": "431edbea-13ca-4219-a46f-d94db6306dec",
   "metadata": {},
   "outputs": [
    {
     "name": "stdout",
     "output_type": "stream",
     "text": [
      "Original videos: 363\n",
      "Manipulated videos: 3068\n"
     ]
    }
   ],
   "source": [
    "num_original_videos = len(list(original_videos.glob(\"*.mp4\")))  # Adjust file extension if needed\n",
    "num_manipulated_videos = len(list(manipulated_videos.glob(\"*.mp4\")))\n",
    "\n",
    "print(f\"Original videos: {num_original_videos}\")\n",
    "print(f\"Manipulated videos: {num_manipulated_videos}\")"
   ]
  },
  {
   "cell_type": "code",
   "execution_count": 21,
   "id": "4214663b-a2d8-4faf-8d56-04b8721b21bb",
   "metadata": {},
   "outputs": [
    {
     "name": "stdout",
     "output_type": "stream",
     "text": [
      "Balanced dataset created with 150 videos in each class.\n"
     ]
    }
   ],
   "source": [
    "# Paths\n",
    "balanced_dir = pathlib.Path(r\"C:\\Users\\princ\\OneDrive\\文档\\NOTES\\SEMESTER 6\\Project\\DATASET\\Output\")\n",
    "balanced_samples = balance_dataset(original_videos, manipulated_videos, balanced_dir)"
   ]
  },
  {
   "cell_type": "code",
   "execution_count": 22,
   "id": "23b7dac9-567d-4abb-8cbd-377d3cf654cc",
   "metadata": {},
   "outputs": [],
   "source": [
    "balanced_dir = pathlib.Path(r\"C:\\Users\\princ\\OneDrive\\文档\\NOTES\\SEMESTER 6\\Project\\DATASET\\Output\")\n",
    "balanced_original = balanced_dir / r\"C:\\Users\\princ\\OneDrive\\文档\\NOTES\\SEMESTER 6\\Project\\DATASET\\Output\\original\"\n",
    "balanced_manipulated = balanced_dir / r\"C:\\Users\\princ\\OneDrive\\文档\\NOTES\\SEMESTER 6\\Project\\DATASET\\Output\\manipulated\"\n",
    "\n",
    "# Ensure the output directories exist\n",
    "balanced_original.mkdir(parents=True, exist_ok=True)\n",
    "balanced_manipulated.mkdir(parents=True, exist_ok=True)"
   ]
  },
  {
   "cell_type": "code",
   "execution_count": 23,
   "id": "69641453-8bd8-4772-b6ec-c7b8cc816180",
   "metadata": {},
   "outputs": [],
   "source": [
    "# Update dataset paths to point to the new subset\n",
    "balanced_video_paths = []\n",
    "balanced_labels = []\n",
    "\n",
    "for video_path in balanced_original.glob(\"*.mp4\"):\n",
    "    balanced_video_paths.append(video_path)\n",
    "    balanced_labels.append(0)  # Label 0 for original\n",
    "\n",
    "for video_path in balanced_manipulated.glob(\"*.mp4\"):\n",
    "    balanced_video_paths.append(video_path)\n",
    "    balanced_labels.append(1)  # Label 1 for manipulated"
   ]
  },
  {
   "cell_type": "code",
   "execution_count": 24,
   "id": "be10dabf-a8be-4f8a-a35f-13deda03bb3f",
   "metadata": {},
   "outputs": [
    {
     "name": "stdout",
     "output_type": "stream",
     "text": [
      "Balanced dataset created with 100 videos in each class.\n",
      "Original videos saved to: C:\\Users\\princ\\OneDrive\\文档\\NOTES\\SEMESTER 6\\Project\\DATASET\\Output\\original\n",
      "Manipulated videos saved to: C:\\Users\\princ\\OneDrive\\文档\\NOTES\\SEMESTER 6\\Project\\DATASET\\Output\\manipulated\n"
     ]
    }
   ],
   "source": [
    "print(f\"Balanced dataset created with 100 videos in each class.\")\n",
    "print(f\"Original videos saved to: {balanced_original}\")\n",
    "print(f\"Manipulated videos saved to: {balanced_manipulated}\")"
   ]
  },
  {
   "cell_type": "code",
   "execution_count": 25,
   "id": "c664cffc-3a7a-43b6-b8de-801689143db3",
   "metadata": {},
   "outputs": [
    {
     "name": "stdout",
     "output_type": "stream",
     "text": [
      "Number of videos in 'original': 297\n",
      "Number of videos in 'manipulated': 430\n"
     ]
    }
   ],
   "source": [
    "balanced_original_dir = pathlib.Path(r\"C:\\Users\\princ\\OneDrive\\文档\\NOTES\\SEMESTER 6\\Project\\DATASET\\Output\\original\")\n",
    "balanced_manipulated_dir = pathlib.Path(r\"C:\\Users\\princ\\OneDrive\\文档\\NOTES\\SEMESTER 6\\Project\\DATASET\\Output\\manipulated\")\n",
    "\n",
    "original_count = len(list(balanced_original_dir.glob(\"*.mp4\")))\n",
    "manipulated_count = len(list(balanced_manipulated_dir.glob(\"*.mp4\")))\n",
    "print(f\"Number of videos in 'original': {original_count}\")\n",
    "print(f\"Number of videos in 'manipulated': {manipulated_count}\")"
   ]
  },
  {
   "cell_type": "code",
   "execution_count": 26,
   "id": "ead2c3e9-4e7a-44c2-9358-1d980b373669",
   "metadata": {},
   "outputs": [],
   "source": [
    "balanced_dataset = VideoDataset(balanced_video_paths,balanced_labels, transform=transform)"
   ]
  },
  {
   "cell_type": "code",
   "execution_count": 27,
   "id": "10544111-bf4b-411e-b9a9-0404eefaaf58",
   "metadata": {},
   "outputs": [],
   "source": [
    "# 3-Fold Cross Validation\n",
    "kf = KFold(n_splits=3, shuffle=True, random_state=47)\n",
    "fold_splits = [(train_idx, val_idx) for train_idx, val_idx in kf.split(balanced_video_paths)]"
   ]
  },
  {
   "cell_type": "code",
   "execution_count": 28,
   "id": "ec8c9502-7ff8-4e8f-a5a0-50ed2d8dec6a",
   "metadata": {},
   "outputs": [],
   "source": [
    "\n",
    "#Training\n"
   ]
  },
  {
   "cell_type": "code",
   "execution_count": 29,
   "id": "0bca7aba-8c13-4a75-8c6f-edb989ae3e1f",
   "metadata": {},
   "outputs": [],
   "source": [
    "import torch\n",
    "import torch.nn as nn\n",
    "from torchvision import models\n",
    "from torchvision.models import AlexNet_Weights\n",
    "\n",
    "class AlexNetLSTM(nn.Module):\n",
    "    def __init__(self, num_classes=2, lstm_hidden_size=256, lstm_num_layers=1, freeze_feature_extractor=True):\n",
    "        super(AlexNetLSTM, self).__init__()\n",
    "        \n",
    "        # Load pretrained AlexNet features\n",
    "        self.feature_extractor = models.alexnet(weights=AlexNet_Weights.IMAGENET1K_V1).features\n",
    "        self.avgpool = nn.AdaptiveAvgPool2d((6, 6))\n",
    "        self.fc_features = nn.Sequential(\n",
    "            nn.Linear(256 * 6 * 6, 1024),\n",
    "            nn.BatchNorm1d(1024),\n",
    "            nn.ReLU(),\n",
    "            nn.Dropout(0.5)  # Dropout to reduce overfitting\n",
    "        )\n",
    "\n",
    "        # Optionally freeze the feature extractor\n",
    "        if freeze_feature_extractor:\n",
    "            for param in self.feature_extractor.parameters():\n",
    "                param.requires_grad = False\n",
    "\n",
    "        # LSTM for temporal modeling\n",
    "        self.lstm = nn.LSTM(input_size=1024, hidden_size=lstm_hidden_size, num_layers=lstm_num_layers, batch_first=True)\n",
    "        \n",
    "        # Attention mechanism\n",
    "        self.attention = nn.Sequential(\n",
    "            nn.Linear(lstm_hidden_size, 128),\n",
    "            nn.Tanh(),\n",
    "            nn.Linear(128, 1),\n",
    "            nn.Softmax(dim=1)\n",
    "        )\n",
    "        \n",
    "        # Fully connected layer for classification\n",
    "        self.fc = nn.Sequential(\n",
    "            nn.Linear(lstm_hidden_size, 512),\n",
    "            nn.BatchNorm1d(512),\n",
    "            nn.ReLU(),\n",
    "            nn.Dropout(0.5),  # Dropout to reduce overfitting\n",
    "            nn.Linear(512, num_classes)\n",
    "        )\n",
    "\n",
    "    def forward(self, x):\n",
    "        batch_size, seq_len, c, h, w = x.size()\n",
    "        \n",
    "        # Reshape input for the feature extractor\n",
    "        x = x.view(batch_size * seq_len, c, h, w)\n",
    "        features = self.feature_extractor(x)\n",
    "        \n",
    "        # Pool and flatten\n",
    "        features = self.avgpool(features)\n",
    "        features = torch.flatten(features, start_dim=1)\n",
    "        features = self.fc_features(features)\n",
    "        \n",
    "        # Reshape for LSTM input\n",
    "        features = features.view(batch_size, seq_len, -1)\n",
    "        \n",
    "        # Forward through LSTM\n",
    "        self.lstm.flatten_parameters()\n",
    "        lstm_out, _ = self.lstm(features)\n",
    "        \n",
    "        # Apply attention\n",
    "        attention_weights = self.attention(lstm_out)\n",
    "        context_vector = torch.sum(attention_weights * lstm_out, dim=1)\n",
    "        \n",
    "        # Forward through the classifier\n",
    "        output = self.fc(context_vector)\n",
    "        return output"
   ]
  },
  {
   "cell_type": "code",
   "execution_count": 30,
   "id": "eb942ec1-b662-48e4-846a-4dd51c89f4eb",
   "metadata": {},
   "outputs": [],
   "source": [
    "from tqdm import tqdm  # Progress bar\n",
    "device = torch.device(\"cuda\" if torch.cuda.is_available() else \"cpu\")\n",
    "# Initialize model, loss function, and optimizer\n",
    "model = AlexNetLSTM(num_classes=2).to(device)\n",
    "criterion = nn.CrossEntropyLoss()\n",
    "optimizer = CustomAdamOptimizer(model.parameters(), lr=0.0001)"
   ]
  },
  {
   "cell_type": "code",
   "execution_count": 31,
   "id": "cd45e604-1bf0-449a-8ecb-86aeca0bacf0",
   "metadata": {},
   "outputs": [],
   "source": [
    "def train_and_validate(\n",
    "    model, train_loader, val_loader, epochs, fold_idx, writer, patience=5\n",
    "):\n",
    "    train_losses = []\n",
    "    val_losses = []\n",
    "    best_epoch_accuracy = 0.0\n",
    "    best_model_state = None\n",
    "    epochs_no_improve = 0\n",
    "\n",
    "    for epoch in range(epochs):\n",
    "        print(f\"Epoch {epoch + 1}/{epochs}\")\n",
    "\n",
    "        # Training loop\n",
    "        model.train()\n",
    "        running_train_loss = 0.0\n",
    "        train_progress = tqdm(train_loader, desc=\"Training\")\n",
    "        for inputs, labels in train_progress:\n",
    "            inputs, labels = inputs.to(device), labels.to(device)\n",
    "            optimizer.zero_grad()\n",
    "            outputs = model(inputs)\n",
    "            loss = criterion(outputs, labels)\n",
    "            loss.backward()\n",
    "            optimizer.step()\n",
    "            running_train_loss += loss.item()\n",
    "            train_progress.set_postfix(loss=loss.item())\n",
    "\n",
    "        avg_train_loss = running_train_loss / len(train_loader)\n",
    "        train_losses.append(avg_train_loss)\n",
    "\n",
    "        # Validation loop\n",
    "        model.eval()\n",
    "        running_val_loss = 0.0\n",
    "        correct = 0\n",
    "        total = 0\n",
    "        val_progress = tqdm(val_loader, desc=\"Validating\")\n",
    "        with torch.no_grad():\n",
    "            for inputs, labels in val_progress:\n",
    "                inputs, labels = inputs.to(device), labels.to(device)\n",
    "                outputs = model(inputs)\n",
    "                loss = criterion(outputs, labels)\n",
    "                running_val_loss += loss.item()\n",
    "\n",
    "                _, predicted = outputs.max(1)\n",
    "                correct += (predicted == labels).sum().item()\n",
    "                total += labels.size(0)\n",
    "\n",
    "        avg_val_loss = running_val_loss / len(val_loader)\n",
    "        val_losses.append(avg_val_loss)\n",
    "\n",
    "        val_accuracy = correct / total\n",
    "        print(\n",
    "            f\"Epoch {epoch + 1} - Train Loss: {avg_train_loss:.4f}, \"\n",
    "            f\"Val Loss: {avg_val_loss:.4f}, Val Accuracy: {val_accuracy:.4f}\"\n",
    "        )\n",
    "\n",
    "        # Log metrics\n",
    "        writer.add_scalar(f\"Fold_{fold_idx}/Train_Loss\", avg_train_loss, epoch + 1)\n",
    "        writer.add_scalar(f\"Fold_{fold_idx}/Val_Loss\", avg_val_loss, epoch + 1)\n",
    "        writer.add_scalar(f\"Fold_{fold_idx}/Val_Accuracy\", val_accuracy, epoch + 1)\n",
    "\n",
    "        # Check for improvement\n",
    "        if val_accuracy > best_epoch_accuracy:\n",
    "            best_epoch_accuracy = val_accuracy\n",
    "            best_model_state = model.state_dict()  # Save the best model's state\n",
    "            epochs_no_improve = 0\n",
    "            print(f\"New best validation accuracy: {val_accuracy:.4f}\")\n",
    "        else:\n",
    "            epochs_no_improve += 1\n",
    "\n",
    "        # Early stopping\n",
    "        if epochs_no_improve >= patience:\n",
    "            print(\n",
    "                f\"Early stopping triggered after {epoch + 1} epochs. \"\n",
    "                f\"No improvement for {patience} consecutive epochs.\"\n",
    "            )\n",
    "            break\n",
    "\n",
    "    # Return best accuracy and model state along with losses\n",
    "    return best_epoch_accuracy, best_model_state, train_losses, val_losses"
   ]
  },
  {
   "cell_type": "code",
   "execution_count": 32,
   "id": "91582f0c-2c42-4b58-b276-f624f994dffb",
   "metadata": {},
   "outputs": [],
   "source": [
    "from sklearn.metrics import  precision_score, recall_score, f1_score, accuracy_score\n",
    "import matplotlib.pyplot as plt\n",
    "import seaborn as sns\n",
    "\n",
    "\n",
    "def evaluate_model(model, val_loader):\n",
    "    y_true = []\n",
    "    y_pred = []\n",
    "    tp=0\n",
    "    tn=0\n",
    "    fp=0\n",
    "    fn=0\n",
    "\n",
    "\n",
    "    # Collect predictions and true labels\n",
    "    model.eval()\n",
    "    with torch.no_grad():\n",
    "        for videos, labels in val_loader:\n",
    "            videos, labels = videos.to(device), labels.to(device)\n",
    "            outputs = model(videos)\n",
    "            _, preds = torch.max(outputs, 1)\n",
    "            y_true.extend(labels.cpu().numpy())\n",
    "            y_pred.extend(preds.cpu().numpy())\n",
    "            tp += ((preds == 1) & (labels == 1)).sum().item()\n",
    "            tn += ((preds == 0) & (labels == 0)).sum().item()\n",
    "            fp += ((preds == 1) & (labels == 0)).sum().item()\n",
    "            fn += ((preds == 0) & (labels == 1)).sum().item()\n",
    "\n",
    "\n",
    "    # Compute metrics\n",
    "    \n",
    "    acc = accuracy_score(y_true, y_pred)\n",
    "    precision = precision_score(y_true, y_pred, average='weighted', zero_division=1)\n",
    "    recall = recall_score(y_true, y_pred, average='weighted', zero_division=1)\n",
    "    f1 = f1_score(y_true, y_pred, average='weighted', zero_division=1)\n",
    "    cm= np.array([[tp, fn], [fp, tn]])\n",
    "\n",
    "    return cm,acc, precision, recall, f1"
   ]
  },
  {
   "cell_type": "code",
   "execution_count": 33,
   "id": "fd116ab2-0e47-4e05-bc0f-6fdd445dba8a",
   "metadata": {},
   "outputs": [],
   "source": [
    "metrics = {\n",
    "    \"accuracy\": [],\n",
    "    \"preision\": [],\n",
    "    \"recall\": [],\n",
    "    \"f1_score\": []\n",
    "}"
   ]
  },
  {
   "cell_type": "code",
   "execution_count": 34,
   "id": "6c7f9f6a-8966-4af2-b56a-95b2e01ace92",
   "metadata": {},
   "outputs": [],
   "source": [
    "# Dataset split\n",
    "train_idx = list(range(0, 240))  # Adjust according to your dataset\n",
    "val_idx = list(range(240, 300))\n",
    "train_dataset = Subset(balanced_dataset, train_idx)\n",
    "val_dataset = Subset(balanced_dataset, val_idx)\n",
    "# Dataloaders\n",
    "train_loader = DataLoader(train_dataset, batch_size=8, shuffle=True, num_workers=0)\n",
    "val_loader = DataLoader(val_dataset, batch_size=8, shuffle=False, num_workers=0)"
   ]
  },
  {
   "cell_type": "code",
   "execution_count": 35,
   "id": "3d4735bb-41ff-408f-9d70-c27b63df6810",
   "metadata": {},
   "outputs": [
    {
     "name": "stdout",
     "output_type": "stream",
     "text": [
      "363\n",
      "3068\n",
      "240\n",
      "60\n"
     ]
    }
   ],
   "source": [
    "# Check if these directories contain video files\n",
    "print(len(list(original_videos.glob(\"*.mp4\"))))\n",
    "print(len(list(manipulated_videos.glob(\"*.mp4\"))))\n",
    "print(len(train_dataset))\n",
    "print(len(val_dataset))"
   ]
  },
  {
   "cell_type": "code",
   "execution_count": 36,
   "id": "712ce4f7-0906-43a1-8025-a188118d75ba",
   "metadata": {},
   "outputs": [],
   "source": [
    "def plot_confusion_matrix(cm, labels=[\"Positive\", \"Negative\"]):\n",
    "    plt.figure(figsize=(8, 6))\n",
    "    sns.heatmap(cm, annot=True, fmt='d', cmap='Blues', \n",
    "                xticklabels=[\"Positive\", \"Negative\"], \n",
    "                yticklabels=[\"Positive\", \"Negative\"])\n",
    "    plt.ylabel(\"Predicted Values\")\n",
    "    plt.xlabel(\"Actual Values\")\n",
    "    plt.title(\"Confusion Matrix\")\n",
    "    plt.show()"
   ]
  },
  {
   "cell_type": "code",
   "execution_count": 37,
   "id": "d2619227-45cc-47d8-970c-ff74f62d3a4e",
   "metadata": {},
   "outputs": [],
   "source": [
    "def plot_loss_curves(train_losses, val_losses, fold_idx):\n",
    "    plt.figure(figsize=(10, 6))\n",
    "    epochs = range(1, len(train_losses) + 1)\n",
    "    \n",
    "    plt.plot(epochs, train_losses, label=\"Training Loss\", marker='o')\n",
    "    plt.plot(epochs, val_losses, label=\"Validation Loss\", marker='o')\n",
    "    \n",
    "    plt.title(f\"Loss Curves for Fold {fold_idx}\")\n",
    "    plt.xlabel(\"Epochs\")\n",
    "    plt.ylabel(\"Loss\")\n",
    "    plt.legend()\n",
    "    plt.grid()\n",
    "    plt.show()"
   ]
  },
  {
   "cell_type": "code",
   "execution_count": 38,
   "id": "49f77d24-acf7-4d11-af38-6e8b9e8ce6e9",
   "metadata": {},
   "outputs": [
    {
     "name": "stdout",
     "output_type": "stream",
     "text": [
      "\n",
      "Fold 1:\n",
      "Epoch 1/5\n"
     ]
    },
    {
     "name": "stderr",
     "output_type": "stream",
     "text": [
      "Training: 100%|████████████████████████████████████████████████████████████| 61/61 [43:09<00:00, 42.46s/it, loss=0.697]\n",
      "Validating: 100%|██████████████████████████████████████████████████████████████████████| 31/31 [22:55<00:00, 44.36s/it]\n"
     ]
    },
    {
     "name": "stdout",
     "output_type": "stream",
     "text": [
      "Epoch 1 - Train Loss: 0.7912, Val Loss: 0.7653, Val Accuracy: 0.5062\n",
      "New best validation accuracy: 0.5062\n",
      "Epoch 2/5\n"
     ]
    },
    {
     "name": "stderr",
     "output_type": "stream",
     "text": [
      "Training: 100%|████████████████████████████████████████████████████████████| 61/61 [46:46<00:00, 46.00s/it, loss=0.506]\n",
      "Validating: 100%|██████████████████████████████████████████████████████████████████████| 31/31 [24:10<00:00, 46.80s/it]\n"
     ]
    },
    {
     "name": "stdout",
     "output_type": "stream",
     "text": [
      "Epoch 2 - Train Loss: 0.7182, Val Loss: 0.7388, Val Accuracy: 0.5679\n",
      "New best validation accuracy: 0.5679\n",
      "Epoch 3/5\n"
     ]
    },
    {
     "name": "stderr",
     "output_type": "stream",
     "text": [
      "Training: 100%|████████████████████████████████████████████████████████████| 61/61 [43:54<00:00, 43.18s/it, loss=0.713]\n",
      "Validating: 100%|██████████████████████████████████████████████████████████████████████| 31/31 [25:05<00:00, 48.58s/it]\n"
     ]
    },
    {
     "name": "stdout",
     "output_type": "stream",
     "text": [
      "Epoch 3 - Train Loss: 0.6463, Val Loss: 0.7418, Val Accuracy: 0.5844\n",
      "New best validation accuracy: 0.5844\n",
      "Epoch 4/5\n"
     ]
    },
    {
     "name": "stderr",
     "output_type": "stream",
     "text": [
      "Training: 100%|████████████████████████████████████████████████████████████| 61/61 [44:12<00:00, 43.48s/it, loss=0.301]\n",
      "Validating: 100%|██████████████████████████████████████████████████████████████████████| 31/31 [22:00<00:00, 42.60s/it]\n"
     ]
    },
    {
     "name": "stdout",
     "output_type": "stream",
     "text": [
      "Epoch 4 - Train Loss: 0.6063, Val Loss: 0.7713, Val Accuracy: 0.5514\n",
      "Epoch 5/5\n"
     ]
    },
    {
     "name": "stderr",
     "output_type": "stream",
     "text": [
      "Training: 100%|████████████████████████████████████████████████████████████| 61/61 [37:20<00:00, 36.74s/it, loss=0.601]\n",
      "Validating: 100%|██████████████████████████████████████████████████████████████████████| 31/31 [17:41<00:00, 34.24s/it]\n"
     ]
    },
    {
     "name": "stdout",
     "output_type": "stream",
     "text": [
      "Epoch 5 - Train Loss: 0.5794, Val Loss: 0.7692, Val Accuracy: 0.5802\n"
     ]
    },
    {
     "data": {
      "image/png": "[encoded data removed]",
      "text/plain": [
       "<Figure size 1000x600 with 1 Axes>"
      ]
     },
     "metadata": {},
     "output_type": "display_data"
    },
    {
     "name": "stdout",
     "output_type": "stream",
     "text": [
      "Metrics for Fold 1:\n",
      "Accuracy: 0.5802\n",
      "Precision: 0.5589\n",
      "Recall: 0.5802\n",
      "F1 Score: 0.5608\n",
      "Confusion Matrix for Fold 1:\n",
      "[[111  36]\n",
      " [ 66  30]]\n"
     ]
    },
    {
     "data": {
      "image/png": "[encoded data removed]",
      "text/plain": [
       "<Figure size 800x600 with 2 Axes>"
      ]
     },
     "metadata": {},
     "output_type": "display_data"
    },
    {
     "name": "stdout",
     "output_type": "stream",
     "text": [
      "Updated overall best accuracy to 0.5844 at Fold 1\n",
      "\n",
      "Fold 2:\n",
      "Epoch 1/5\n"
     ]
    },
    {
     "name": "stderr",
     "output_type": "stream",
     "text": [
      "Training: 100%|████████████████████████████████████████████████████████████| 61/61 [34:35<00:00, 34.02s/it, loss=0.666]\n",
      "Validating: 100%|██████████████████████████████████████████████████████████████████████| 31/31 [16:56<00:00, 32.80s/it]\n"
     ]
    },
    {
     "name": "stdout",
     "output_type": "stream",
     "text": [
      "Epoch 1 - Train Loss: 0.7975, Val Loss: 0.7294, Val Accuracy: 0.4917\n",
      "New best validation accuracy: 0.4917\n",
      "Epoch 2/5\n"
     ]
    },
    {
     "name": "stderr",
     "output_type": "stream",
     "text": [
      "Training: 100%|████████████████████████████████████████████████████████████| 61/61 [34:40<00:00, 34.10s/it, loss=0.789]\n",
      "Validating: 100%|██████████████████████████████████████████████████████████████████████| 31/31 [16:55<00:00, 32.75s/it]\n"
     ]
    },
    {
     "name": "stdout",
     "output_type": "stream",
     "text": [
      "Epoch 2 - Train Loss: 0.7065, Val Loss: 0.7241, Val Accuracy: 0.5661\n",
      "New best validation accuracy: 0.5661\n",
      "Epoch 3/5\n"
     ]
    },
    {
     "name": "stderr",
     "output_type": "stream",
     "text": [
      "Training: 100%|████████████████████████████████████████████████████████████| 61/61 [34:30<00:00, 33.94s/it, loss=0.649]\n",
      "Validating: 100%|██████████████████████████████████████████████████████████████████████| 31/31 [18:49<00:00, 36.45s/it]\n"
     ]
    },
    {
     "name": "stdout",
     "output_type": "stream",
     "text": [
      "Epoch 3 - Train Loss: 0.6759, Val Loss: 0.7734, Val Accuracy: 0.5372\n",
      "Epoch 4/5\n"
     ]
    },
    {
     "name": "stderr",
     "output_type": "stream",
     "text": [
      "Training: 100%|████████████████████████████████████████████████████████████| 61/61 [40:15<00:00, 39.60s/it, loss=0.426]\n",
      "Validating: 100%|██████████████████████████████████████████████████████████████████████| 31/31 [19:32<00:00, 37.82s/it]\n"
     ]
    },
    {
     "name": "stdout",
     "output_type": "stream",
     "text": [
      "Epoch 4 - Train Loss: 0.6589, Val Loss: 0.7835, Val Accuracy: 0.5496\n",
      "Epoch 5/5\n"
     ]
    },
    {
     "name": "stderr",
     "output_type": "stream",
     "text": [
      "Training: 100%|████████████████████████████████████████████████████████████| 61/61 [40:12<00:00, 39.55s/it, loss=0.499]\n",
      "Validating: 100%|██████████████████████████████████████████████████████████████████████| 31/31 [19:30<00:00, 37.77s/it]\n"
     ]
    },
    {
     "name": "stdout",
     "output_type": "stream",
     "text": [
      "Epoch 5 - Train Loss: 0.6138, Val Loss: 0.7656, Val Accuracy: 0.5496\n"
     ]
    },
    {
     "data": {
      "image/png": "[encoded data removed]",
      "text/plain": [
       "<Figure size 1000x600 with 1 Axes>"
      ]
     },
     "metadata": {},
     "output_type": "display_data"
    },
    {
     "name": "stdout",
     "output_type": "stream",
     "text": [
      "Metrics for Fold 2:\n",
      "Accuracy: 0.5496\n",
      "Precision: 0.5428\n",
      "Recall: 0.5496\n",
      "F1 Score: 0.5460\n",
      "Confusion Matrix for Fold 2:\n",
      "[[108  52]\n",
      " [ 57  25]]\n"
     ]
    },
    {
     "data": {
      "image/png": "[encoded data removed]",
      "text/plain": [
       "<Figure size 800x600 with 2 Axes>"
      ]
     },
     "metadata": {},
     "output_type": "display_data"
    },
    {
     "name": "stdout",
     "output_type": "stream",
     "text": [
      "\n",
      "Fold 3:\n",
      "Epoch 1/5\n"
     ]
    },
    {
     "name": "stderr",
     "output_type": "stream",
     "text": [
      "Training: 100%|████████████████████████████████████████████████████████████| 61/61 [34:54<00:00, 34.33s/it, loss=0.897]\n",
      "Validating: 100%|██████████████████████████████████████████████████████████████████████| 31/31 [17:15<00:00, 33.42s/it]\n"
     ]
    },
    {
     "name": "stdout",
     "output_type": "stream",
     "text": [
      "Epoch 1 - Train Loss: 0.7643, Val Loss: 0.8058, Val Accuracy: 0.5041\n",
      "New best validation accuracy: 0.5041\n",
      "Epoch 2/5\n"
     ]
    },
    {
     "name": "stderr",
     "output_type": "stream",
     "text": [
      "Training: 100%|████████████████████████████████████████████████████████████| 61/61 [34:20<00:00, 33.78s/it, loss=0.636]\n",
      "Validating: 100%|██████████████████████████████████████████████████████████████████████| 31/31 [17:07<00:00, 33.14s/it]\n"
     ]
    },
    {
     "name": "stdout",
     "output_type": "stream",
     "text": [
      "Epoch 2 - Train Loss: 0.7114, Val Loss: 0.7894, Val Accuracy: 0.4835\n",
      "Epoch 3/5\n"
     ]
    },
    {
     "name": "stderr",
     "output_type": "stream",
     "text": [
      "Training: 100%|████████████████████████████████████████████████████████████| 61/61 [33:52<00:00, 33.32s/it, loss=0.605]\n",
      "Validating: 100%|██████████████████████████████████████████████████████████████████████| 31/31 [16:49<00:00, 32.56s/it]\n"
     ]
    },
    {
     "name": "stdout",
     "output_type": "stream",
     "text": [
      "Epoch 3 - Train Loss: 0.6296, Val Loss: 0.8217, Val Accuracy: 0.4793\n",
      "Epoch 4/5\n"
     ]
    },
    {
     "name": "stderr",
     "output_type": "stream",
     "text": [
      "Training: 100%|████████████████████████████████████████████████████████████| 61/61 [37:59<00:00, 37.37s/it, loss=0.585]\n",
      "Validating: 100%|██████████████████████████████████████████████████████████████████████| 31/31 [19:56<00:00, 38.58s/it]\n"
     ]
    },
    {
     "name": "stdout",
     "output_type": "stream",
     "text": [
      "Epoch 4 - Train Loss: 0.6272, Val Loss: 0.8098, Val Accuracy: 0.5165\n",
      "New best validation accuracy: 0.5165\n",
      "Epoch 5/5\n"
     ]
    },
    {
     "name": "stderr",
     "output_type": "stream",
     "text": [
      "Training: 100%|████████████████████████████████████████████████████████████| 61/61 [39:55<00:00, 39.26s/it, loss=0.252]\n",
      "Validating: 100%|██████████████████████████████████████████████████████████████████████| 31/31 [19:54<00:00, 38.52s/it]\n"
     ]
    },
    {
     "name": "stdout",
     "output_type": "stream",
     "text": [
      "Epoch 5 - Train Loss: 0.5808, Val Loss: 0.8007, Val Accuracy: 0.5620\n",
      "New best validation accuracy: 0.5620\n"
     ]
    },
    {
     "data": {
      "image/png": "[encoded data removed]",
      "text/plain": [
       "<Figure size 1000x600 with 1 Axes>"
      ]
     },
     "metadata": {},
     "output_type": "display_data"
    },
    {
     "name": "stdout",
     "output_type": "stream",
     "text": [
      "Metrics for Fold 3:\n",
      "Accuracy: 0.5620\n",
      "Precision: 0.5663\n",
      "Recall: 0.5620\n",
      "F1 Score: 0.5497\n",
      "Confusion Matrix for Fold 3:\n",
      "[[89 34]\n",
      " [72 47]]\n"
     ]
    },
    {
     "data": {
      "image/png": "[encoded data removed]",
      "text/plain": [
       "<Figure size 800x600 with 2 Axes>"
      ]
     },
     "metadata": {},
     "output_type": "display_data"
    },
    {
     "name": "stdout",
     "output_type": "stream",
     "text": [
      "Loaded the best model with accuracy 0.5844\n"
     ]
    }
   ],
   "source": [
    "best_accuracy = 0.0 \n",
    "best_model_state = None  \n",
    "for fold_idx, (train_idx, val_idx) in enumerate(fold_splits):\n",
    "    print(f\"\\nFold {fold_idx + 1}:\")\n",
    "\n",
    "    # Prepare DataLoaders for the fold\n",
    "    train_dataset = Subset(balanced_dataset, train_idx)\n",
    "    val_dataset = Subset(balanced_dataset, val_idx)\n",
    "    \n",
    "    train_loader = DataLoader(train_dataset, batch_size=8, shuffle=True, num_workers=0)\n",
    "    val_loader = DataLoader(val_dataset, batch_size=8, shuffle=False, num_workers=0)\n",
    "\n",
    "    # Initialize model, optimizer, and criterion for each fold\n",
    "    model = AlexNetLSTM(num_classes=2).to(device)\n",
    "    model.lstm.flatten_parameters()\n",
    "    optimizer = CustomAdamOptimizer(model.parameters(), lr=0.0001)\n",
    "    criterion = nn.CrossEntropyLoss()\n",
    "\n",
    "    # Train and validate for the fold using train_and_validate\n",
    "    fold_best_accuracy, fold_best_model_state, train_losses, val_losses = train_and_validate(\n",
    "        model, train_loader, val_loader, epochs=5, fold_idx=fold_idx + 1, writer=writer\n",
    "    )\n",
    "\n",
    "    # Plot loss curves for the fold\n",
    "    plot_loss_curves(train_losses, val_losses, fold_idx + 1)\n",
    "\n",
    "    # Evaluate the model and get metrics\n",
    "    cm, acc, precision, recall, f1 = evaluate_model(model, val_loader)\n",
    "    print(f\"Metrics for Fold {fold_idx + 1}:\")\n",
    "    print(f\"Accuracy: {acc:.4f}\")\n",
    "    print(f\"Precision: {precision:.4f}\")\n",
    "    print(f\"Recall: {recall:.4f}\")\n",
    "    print(f\"F1 Score: {f1:.4f}\")\n",
    "\n",
    "    # Plot confusion matrix\n",
    "    print(f\"Confusion Matrix for Fold {fold_idx + 1}:\\n{cm}\")\n",
    "    plot_confusion_matrix(cm, labels=[\"Positive\", \"Negative\"])\n",
    "\n",
    "    # Update the overall best model based on validation accuracy\n",
    "    if fold_best_accuracy > best_accuracy:\n",
    "        best_accuracy = fold_best_accuracy\n",
    "        best_model_state = fold_best_model_state \n",
    "        print(f\"Updated overall best accuracy to {best_accuracy:.4f} at Fold {fold_idx + 1}\")\n",
    "\n",
    "# After all folds, load the best model for further training or evaluation\n",
    "if best_model_state:\n",
    "    model.load_state_dict(best_model_state)\n",
    "    print(f\"Loaded the best model with accuracy {best_accuracy:.4f}\") "
   ]
  },
  {
   "cell_type": "code",
   "execution_count": 39,
   "id": "22c661db-b04e-4681-bfa9-d7e2551083c1",
   "metadata": {},
   "outputs": [],
   "source": [
    "torch.save(model.state_dict(), 'alexnet_best_model.pth')\n"
   ]
  },
  {
   "cell_type": "code",
   "execution_count": 40,
   "id": "4585e806-6a2e-46c2-bf5d-790acba3cca4",
   "metadata": {},
   "outputs": [
    {
     "data": {
      "text/plain": [
       "<All keys matched successfully>"
      ]
     },
     "execution_count": 40,
     "metadata": {},
     "output_type": "execute_result"
    }
   ],
   "source": [
    "model.load_state_dict(torch.load('alexnet_best_model.pth'))\n"
   ]
  },
  {
   "cell_type": "code",
   "execution_count": 41,
   "id": "cf7193e1-005a-480a-abda-7ed7165e2b34",
   "metadata": {},
   "outputs": [
    {
     "name": "stdout",
     "output_type": "stream",
     "text": [
      "File exists: True\n"
     ]
    }
   ],
   "source": [
    "import os\n",
    "print(\"File exists:\", os.path.exists('alexnet_best_model.pth'))\n"
   ]
  },
  {
   "cell_type": "code",
   "execution_count": 42,
   "id": "91d1d246-27bf-46e6-a998-4eb1b4b83119",
   "metadata": {},
   "outputs": [],
   "source": [
    "writer.close()\n"
   ]
  },
  {
   "cell_type": "code",
   "execution_count": null,
   "id": "ba4c23c4-e28b-47d7-952a-88b447e8cbc9",
   "metadata": {},
   "outputs": [],
   "source": [
    "%load_ext tensorboard\n",
    "%tensorboard --logdir runs/cross_validation"
   ]
  },
  {
   "cell_type": "code",
   "execution_count": 5,
   "id": "a33c1465-22ad-4374-8d38-dad0c1c5f744",
   "metadata": {},
   "outputs": [
    {
     "name": "stdout",
     "output_type": "stream",
     "text": [
      "Model successfully saved as pickle!\n"
     ]
    }
   ],
   "source": [
    "import torch\n",
    "import pickle\n",
    "\n",
    "# Load the model\n",
    "model_path = \"alexnet_best_model.pth\"\n",
    "model = torch.load(model_path, map_location=torch.device('cpu'))  # Load model on CPU\n",
    "\n",
    "# Save the model as a pickle file\n",
    "with open(\"deepfake_model.pkl\", \"wb\") as file:\n",
    "    pickle.dump(model, file)\n",
    "\n",
    "print(\"Model successfully saved as pickle!\")\n"
   ]
  },
  {
   "cell_type": "code",
   "execution_count": null,
   "id": "8c4db790-ef54-4cc4-8116-87819bb5e802",
   "metadata": {},
   "outputs": [],
   "source": []
  }
 ],
 "metadata": {
  "kernelspec": {
   "display_name": "Python 3 (ipykernel)",
   "language": "python",
   "name": "python3"
  },
  "language_info": {
   "codemirror_mode": {
    "name": "ipython",
    "version": 3
   },
   "file_extension": ".py",
   "mimetype": "text/x-python",
   "name": "python",
   "nbconvert_exporter": "python",
   "pygments_lexer": "ipython3",
   "version": "3.9.13"
  }
 },
 "nbformat": 4,
 "nbformat_minor": 5
}
